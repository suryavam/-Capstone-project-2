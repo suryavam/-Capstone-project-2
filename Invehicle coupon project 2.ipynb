{
 "cells": [
  {
   "cell_type": "markdown",
   "id": "a116add4",
   "metadata": {},
   "source": [
    "# In-vehicle coupon recommendation"
   ]
  },
  {
   "cell_type": "markdown",
   "id": "6edce624",
   "metadata": {},
   "source": [
    "This data was collected via a survey on Amazon Mechanical Turk. \n",
    "The survey describes different driving scenarios including the destination, current time, weather, passenger, etc \n",
    "and then ask the person whether he will accept the coupon if he is the driver. \n",
    "For more information about the dataset, please refer to the paper\n",
    "Wang, Tong, Cynthia Rudin, Finale Doshi-Velez, Yimin Liu, Erica Klampfl, and Perry MacNeille. \n",
    "A bayesian framework for learning rule sets for interpretable classification.\n",
    "The Journal of Machine Learning Research 18, no. 1 (2017): 2357-2393."
   ]
  },
  {
   "cell_type": "markdown",
   "id": "1021f6a6",
   "metadata": {},
   "source": [
    "# Import Libraries"
   ]
  },
  {
   "cell_type": "code",
   "execution_count": 1,
   "id": "8975aabc",
   "metadata": {},
   "outputs": [],
   "source": [
    "import pandas as pd\n",
    "import numpy as np\n",
    "import matplotlib.pyplot as plt\n",
    "%matplotlib inline"
   ]
  },
  {
   "cell_type": "markdown",
   "id": "4bfcc0b2",
   "metadata": {},
   "source": [
    "# Importing Dataset"
   ]
  },
  {
   "cell_type": "code",
   "execution_count": 2,
   "id": "e6a5cb5a",
   "metadata": {},
   "outputs": [
    {
     "name": "stdout",
     "output_type": "stream",
     "text": [
      "C:\\Users\\sande\\OneDrive\\Desktop\\New folder (2)\n"
     ]
    }
   ],
   "source": [
    "import io\n",
    "%cd \"C:\\Users\\sande\\OneDrive\\Desktop\\New folder (2)\""
   ]
  },
  {
   "cell_type": "code",
   "execution_count": 3,
   "id": "b0752a93",
   "metadata": {},
   "outputs": [],
   "source": [
    "invehicle=pd.read_csv(\"invehicle.csv\")"
   ]
  },
  {
   "cell_type": "markdown",
   "id": "06a19e7e",
   "metadata": {},
   "source": [
    "# Dataset information"
   ]
  },
  {
   "cell_type": "code",
   "execution_count": 4,
   "id": "3afb310e",
   "metadata": {},
   "outputs": [
    {
     "name": "stdout",
     "output_type": "stream",
     "text": [
      "<class 'pandas.core.frame.DataFrame'>\n",
      "RangeIndex: 12684 entries, 0 to 12683\n",
      "Data columns (total 26 columns):\n",
      " #   Column                Non-Null Count  Dtype \n",
      "---  ------                --------------  ----- \n",
      " 0   destination           12684 non-null  object\n",
      " 1   passanger             12684 non-null  object\n",
      " 2   weather               12684 non-null  object\n",
      " 3   temperature           12684 non-null  int64 \n",
      " 4   time                  12684 non-null  object\n",
      " 5   coupon                12684 non-null  object\n",
      " 6   expiration            12684 non-null  object\n",
      " 7   gender                12684 non-null  object\n",
      " 8   age                   12684 non-null  object\n",
      " 9   maritalStatus         12684 non-null  object\n",
      " 10  has_children          12684 non-null  int64 \n",
      " 11  education             12684 non-null  object\n",
      " 12  occupation            12684 non-null  object\n",
      " 13  income                12684 non-null  object\n",
      " 14  car                   108 non-null    object\n",
      " 15  Bar                   12577 non-null  object\n",
      " 16  CoffeeHouse           12467 non-null  object\n",
      " 17  CarryAway             12533 non-null  object\n",
      " 18  RestaurantLessThan20  12554 non-null  object\n",
      " 19  Restaurant20To50      12495 non-null  object\n",
      " 20  toCoupon_GEQ5min      12684 non-null  int64 \n",
      " 21  toCoupon_GEQ15min     12684 non-null  int64 \n",
      " 22  toCoupon_GEQ25min     12684 non-null  int64 \n",
      " 23  direction_same        12684 non-null  int64 \n",
      " 24  direction_opp         12684 non-null  int64 \n",
      " 25  Y                     12684 non-null  int64 \n",
      "dtypes: int64(8), object(18)\n",
      "memory usage: 2.5+ MB\n"
     ]
    }
   ],
   "source": [
    "invehicle.info()"
   ]
  },
  {
   "cell_type": "code",
   "execution_count": 5,
   "id": "a4f297dc",
   "metadata": {},
   "outputs": [],
   "source": [
    "invehicle=invehicle.drop(\"car\",axis=1)"
   ]
  },
  {
   "cell_type": "code",
   "execution_count": 6,
   "id": "cfff5328",
   "metadata": {},
   "outputs": [],
   "source": [
    "invehicle=invehicle.drop(\"toCoupon_GEQ5min\",axis=1)"
   ]
  },
  {
   "cell_type": "code",
   "execution_count": 7,
   "id": "1de37169",
   "metadata": {},
   "outputs": [
    {
     "data": {
      "text/plain": [
       "never    5197\n",
       "less1    3482\n",
       "1~3      2473\n",
       "4~8      1076\n",
       "gt8       349\n",
       "Name: Bar, dtype: int64"
      ]
     },
     "execution_count": 7,
     "metadata": {},
     "output_type": "execute_result"
    }
   ],
   "source": [
    "invehicle.Bar.value_counts()"
   ]
  },
  {
   "cell_type": "markdown",
   "id": "00b984d1",
   "metadata": {},
   "source": [
    "# Imputing the missing Values"
   ]
  },
  {
   "cell_type": "code",
   "execution_count": 8,
   "id": "92c7dd98",
   "metadata": {},
   "outputs": [],
   "source": [
    "invehicle.Bar=invehicle.Bar.fillna(invehicle.Bar.value_counts().idxmax())"
   ]
  },
  {
   "cell_type": "code",
   "execution_count": 9,
   "id": "8991268f",
   "metadata": {},
   "outputs": [
    {
     "data": {
      "text/plain": [
       "less1    3385\n",
       "1~3      3225\n",
       "never    2962\n",
       "4~8      1784\n",
       "gt8      1111\n",
       "Name: CoffeeHouse, dtype: int64"
      ]
     },
     "execution_count": 9,
     "metadata": {},
     "output_type": "execute_result"
    }
   ],
   "source": [
    "invehicle.CoffeeHouse.value_counts()"
   ]
  },
  {
   "cell_type": "code",
   "execution_count": 10,
   "id": "f7f2b720",
   "metadata": {},
   "outputs": [],
   "source": [
    "invehicle.CoffeeHouse=invehicle.CoffeeHouse.fillna(invehicle.CoffeeHouse.value_counts().idxmax())"
   ]
  },
  {
   "cell_type": "code",
   "execution_count": 11,
   "id": "fd20eaee",
   "metadata": {},
   "outputs": [
    {
     "data": {
      "text/plain": [
       "1~3      4672\n",
       "4~8      4258\n",
       "less1    1856\n",
       "gt8      1594\n",
       "never     153\n",
       "Name: CarryAway, dtype: int64"
      ]
     },
     "execution_count": 11,
     "metadata": {},
     "output_type": "execute_result"
    }
   ],
   "source": [
    "invehicle.CarryAway.value_counts()"
   ]
  },
  {
   "cell_type": "code",
   "execution_count": 12,
   "id": "76f1fb5d",
   "metadata": {},
   "outputs": [],
   "source": [
    "invehicle.CarryAway=invehicle.CarryAway.fillna(invehicle.CarryAway.value_counts().idxmax())"
   ]
  },
  {
   "cell_type": "code",
   "execution_count": 13,
   "id": "4d403ceb",
   "metadata": {},
   "outputs": [
    {
     "data": {
      "text/plain": [
       "1~3      5376\n",
       "4~8      3580\n",
       "less1    2093\n",
       "gt8      1285\n",
       "never     220\n",
       "Name: RestaurantLessThan20, dtype: int64"
      ]
     },
     "execution_count": 13,
     "metadata": {},
     "output_type": "execute_result"
    }
   ],
   "source": [
    "invehicle.RestaurantLessThan20.value_counts()"
   ]
  },
  {
   "cell_type": "code",
   "execution_count": 14,
   "id": "52f50b09",
   "metadata": {},
   "outputs": [],
   "source": [
    "invehicle.RestaurantLessThan20=invehicle.RestaurantLessThan20.fillna(invehicle.RestaurantLessThan20.value_counts().idxmax())"
   ]
  },
  {
   "cell_type": "code",
   "execution_count": 15,
   "id": "a86a866a",
   "metadata": {},
   "outputs": [
    {
     "data": {
      "text/plain": [
       "less1    6077\n",
       "1~3      3290\n",
       "never    2136\n",
       "4~8       728\n",
       "gt8       264\n",
       "Name: Restaurant20To50, dtype: int64"
      ]
     },
     "execution_count": 15,
     "metadata": {},
     "output_type": "execute_result"
    }
   ],
   "source": [
    "invehicle.Restaurant20To50.value_counts()"
   ]
  },
  {
   "cell_type": "code",
   "execution_count": 16,
   "id": "7dff103a",
   "metadata": {},
   "outputs": [],
   "source": [
    "invehicle.Restaurant20To50=invehicle.Restaurant20To50.fillna(invehicle.Restaurant20To50.value_counts().idxmax())"
   ]
  },
  {
   "cell_type": "code",
   "execution_count": 17,
   "id": "89f825bb",
   "metadata": {},
   "outputs": [
    {
     "name": "stdout",
     "output_type": "stream",
     "text": [
      "<class 'pandas.core.frame.DataFrame'>\n",
      "RangeIndex: 12684 entries, 0 to 12683\n",
      "Data columns (total 24 columns):\n",
      " #   Column                Non-Null Count  Dtype \n",
      "---  ------                --------------  ----- \n",
      " 0   destination           12684 non-null  object\n",
      " 1   passanger             12684 non-null  object\n",
      " 2   weather               12684 non-null  object\n",
      " 3   temperature           12684 non-null  int64 \n",
      " 4   time                  12684 non-null  object\n",
      " 5   coupon                12684 non-null  object\n",
      " 6   expiration            12684 non-null  object\n",
      " 7   gender                12684 non-null  object\n",
      " 8   age                   12684 non-null  object\n",
      " 9   maritalStatus         12684 non-null  object\n",
      " 10  has_children          12684 non-null  int64 \n",
      " 11  education             12684 non-null  object\n",
      " 12  occupation            12684 non-null  object\n",
      " 13  income                12684 non-null  object\n",
      " 14  Bar                   12684 non-null  object\n",
      " 15  CoffeeHouse           12684 non-null  object\n",
      " 16  CarryAway             12684 non-null  object\n",
      " 17  RestaurantLessThan20  12684 non-null  object\n",
      " 18  Restaurant20To50      12684 non-null  object\n",
      " 19  toCoupon_GEQ15min     12684 non-null  int64 \n",
      " 20  toCoupon_GEQ25min     12684 non-null  int64 \n",
      " 21  direction_same        12684 non-null  int64 \n",
      " 22  direction_opp         12684 non-null  int64 \n",
      " 23  Y                     12684 non-null  int64 \n",
      "dtypes: int64(7), object(17)\n",
      "memory usage: 2.3+ MB\n"
     ]
    }
   ],
   "source": [
    "invehicle.info()"
   ]
  },
  {
   "cell_type": "markdown",
   "id": "d1835fee",
   "metadata": {},
   "source": [
    "# EDA-Exploratory data analysis"
   ]
  },
  {
   "cell_type": "code",
   "execution_count": 18,
   "id": "b15866c8",
   "metadata": {},
   "outputs": [
    {
     "data": {
      "text/plain": [
       "<Axes: >"
      ]
     },
     "execution_count": 18,
     "metadata": {},
     "output_type": "execute_result"
    },
    {
     "data": {
      "image/png": "[encoded data removed]",
      "text/plain": [
       "<Figure size 640x480 with 1 Axes>"
      ]
     },
     "metadata": {},
     "output_type": "display_data"
    }
   ],
   "source": [
    "invehicle.Bar.value_counts().plot(kind='bar')"
   ]
  },
  {
   "cell_type": "code",
   "execution_count": 19,
   "id": "faad1837",
   "metadata": {},
   "outputs": [
    {
     "data": {
      "text/plain": [
       "<Axes: ylabel='Y'>"
      ]
     },
     "execution_count": 19,
     "metadata": {},
     "output_type": "execute_result"
    },
    {
     "data": {
      "image/png": "[encoded data removed]",
      "text/plain": [
       "<Figure size 640x480 with 1 Axes>"
      ]
     },
     "metadata": {},
     "output_type": "display_data"
    }
   ],
   "source": [
    "invehicle.Y.value_counts().plot(kind='pie',autopct='%2f%%')"
   ]
  },
  {
   "cell_type": "code",
   "execution_count": 20,
   "id": "da1e8860",
   "metadata": {},
   "outputs": [
    {
     "data": {
      "text/plain": [
       "<Axes: ylabel='education'>"
      ]
     },
     "execution_count": 20,
     "metadata": {},
     "output_type": "execute_result"
    },
    {
     "data": {
      "image/png": "[encoded data removed]",
      "text/plain": [
       "<Figure size 640x480 with 1 Axes>"
      ]
     },
     "metadata": {},
     "output_type": "display_data"
    }
   ],
   "source": [
    "invehicle.education.value_counts().plot(kind='pie',autopct='%2f%%')"
   ]
  },
  {
   "cell_type": "code",
   "execution_count": 21,
   "id": "2abbc24c",
   "metadata": {},
   "outputs": [
    {
     "data": {
      "image/png": "[encoded data removed]",
      "text/plain": [
       "<Figure size 640x480 with 1 Axes>"
      ]
     },
     "metadata": {},
     "output_type": "display_data"
    }
   ],
   "source": [
    "ax=invehicle.gender.value_counts().plot(kind='bar')\n",
    "for i in ax.containers:\n",
    "    ax.bar_label(i)"
   ]
  },
  {
   "cell_type": "code",
   "execution_count": 22,
   "id": "b0091db0",
   "metadata": {},
   "outputs": [
    {
     "data": {
      "image/png": "[encoded data removed]",
      "text/plain": [
       "<Figure size 640x480 with 1 Axes>"
      ]
     },
     "metadata": {},
     "output_type": "display_data"
    }
   ],
   "source": [
    "ax=invehicle.temperature.value_counts().plot(kind='bar',color='black')\n",
    "for i in ax.containers:\n",
    "    ax.bar_label(i)"
   ]
  },
  {
   "cell_type": "code",
   "execution_count": 23,
   "id": "8a194041",
   "metadata": {},
   "outputs": [
    {
     "data": {
      "image/png": "[encoded data removed]",
      "text/plain": [
       "<Figure size 640x480 with 1 Axes>"
      ]
     },
     "metadata": {},
     "output_type": "display_data"
    }
   ],
   "source": [
    "ax=pd.crosstab(invehicle.passanger,invehicle.destination).plot(\n",
    "kind='bar',stacked=True)\n",
    "for i in ax.containers:\n",
    "    ax.bar_label(i)"
   ]
  },
  {
   "cell_type": "code",
   "execution_count": 24,
   "id": "de123993",
   "metadata": {},
   "outputs": [
    {
     "data": {
      "image/png": "[encoded data removed]",
      "text/plain": [
       "<Figure size 640x480 with 1 Axes>"
      ]
     },
     "metadata": {},
     "output_type": "display_data"
    }
   ],
   "source": [
    "ax=pd.crosstab(invehicle.income,invehicle.coupon).plot(\n",
    "kind='bar',stacked=True)\n",
    "for i in ax.containers:\n",
    "    ax.bar_label(i)"
   ]
  },
  {
   "cell_type": "code",
   "execution_count": 25,
   "id": "438068fc",
   "metadata": {},
   "outputs": [],
   "source": [
    "import seaborn as sns"
   ]
  },
  {
   "cell_type": "code",
   "execution_count": 26,
   "id": "7dbf5f2f",
   "metadata": {},
   "outputs": [
    {
     "data": {
      "text/plain": [
       "<Figure size 3000x1500 with 0 Axes>"
      ]
     },
     "metadata": {},
     "output_type": "display_data"
    },
    {
     "data": {
      "image/png": "[encoded data removed]",
      "text/plain": [
       "<Figure size 640x480 with 3 Axes>"
      ]
     },
     "metadata": {},
     "output_type": "display_data"
    }
   ],
   "source": [
    "plt.figure(figsize=(30,15))\n",
    "fig,ax=plt.subplots(3,1)\n",
    "sns.kdeplot(invehicle.Y,ax=ax[0])\n",
    "sns.histplot(invehicle.Y,ax=ax[1])\n",
    "sns.boxplot(invehicle.Y,ax=ax[2],orient='h')\n",
    "plt.show()"
   ]
  },
  {
   "cell_type": "markdown",
   "id": "0ed7e73c",
   "metadata": {},
   "source": [
    "# Hypothesis Testing"
   ]
  },
  {
   "cell_type": "code",
   "execution_count": 27,
   "id": "a5ed69ad",
   "metadata": {},
   "outputs": [
    {
     "data": {
      "text/html": [
       "<div>\n",
       "<style scoped>\n",
       "    .dataframe tbody tr th:only-of-type {\n",
       "        vertical-align: middle;\n",
       "    }\n",
       "\n",
       "    .dataframe tbody tr th {\n",
       "        vertical-align: top;\n",
       "    }\n",
       "\n",
       "    .dataframe thead th {\n",
       "        text-align: right;\n",
       "    }\n",
       "</style>\n",
       "<table border=\"1\" class=\"dataframe\">\n",
       "  <thead>\n",
       "    <tr style=\"text-align: right;\">\n",
       "      <th>gender</th>\n",
       "      <th>Female</th>\n",
       "      <th>Male</th>\n",
       "    </tr>\n",
       "    <tr>\n",
       "      <th>Y</th>\n",
       "      <th></th>\n",
       "      <th></th>\n",
       "    </tr>\n",
       "  </thead>\n",
       "  <tbody>\n",
       "    <tr>\n",
       "      <th>0</th>\n",
       "      <td>2948</td>\n",
       "      <td>2526</td>\n",
       "    </tr>\n",
       "    <tr>\n",
       "      <th>1</th>\n",
       "      <td>3563</td>\n",
       "      <td>3647</td>\n",
       "    </tr>\n",
       "  </tbody>\n",
       "</table>\n",
       "</div>"
      ],
      "text/plain": [
       "gender  Female  Male\n",
       "Y                   \n",
       "0         2948  2526\n",
       "1         3563  3647"
      ]
     },
     "execution_count": 27,
     "metadata": {},
     "output_type": "execute_result"
    }
   ],
   "source": [
    "# Test Null no Association between Y and gender\n",
    "pd.crosstab(invehicle.Y,invehicle.gender)"
   ]
  },
  {
   "cell_type": "code",
   "execution_count": 28,
   "id": "ba03c03a",
   "metadata": {},
   "outputs": [],
   "source": [
    "from scipy.stats import chi2_contingency"
   ]
  },
  {
   "cell_type": "code",
   "execution_count": 29,
   "id": "669a578f",
   "metadata": {},
   "outputs": [
    {
     "data": {
      "text/plain": [
       "Chi2ContingencyResult(statistic=24.344527038622925, pvalue=8.05552865589407e-07, dof=1, expected_freq=array([[2809.93487859, 2664.06512141],\n",
       "       [3701.06512141, 3508.93487859]]))"
      ]
     },
     "execution_count": 29,
     "metadata": {},
     "output_type": "execute_result"
    }
   ],
   "source": [
    "chi2_contingency(pd.crosstab(invehicle.Y,invehicle.gender))\n",
    "# since pvalue=8.05552865589407e-07 is less than 0.05, Reject NULL"
   ]
  },
  {
   "cell_type": "code",
   "execution_count": 30,
   "id": "9da64e9d",
   "metadata": {},
   "outputs": [
    {
     "data": {
      "text/html": [
       "<div>\n",
       "<style scoped>\n",
       "    .dataframe tbody tr th:only-of-type {\n",
       "        vertical-align: middle;\n",
       "    }\n",
       "\n",
       "    .dataframe tbody tr th {\n",
       "        vertical-align: top;\n",
       "    }\n",
       "\n",
       "    .dataframe thead th {\n",
       "        text-align: right;\n",
       "    }\n",
       "</style>\n",
       "<table border=\"1\" class=\"dataframe\">\n",
       "  <thead>\n",
       "    <tr style=\"text-align: right;\">\n",
       "      <th>destination</th>\n",
       "      <th>Home</th>\n",
       "      <th>No Urgent Place</th>\n",
       "      <th>Work</th>\n",
       "    </tr>\n",
       "    <tr>\n",
       "      <th>Y</th>\n",
       "      <th></th>\n",
       "      <th></th>\n",
       "      <th></th>\n",
       "    </tr>\n",
       "  </thead>\n",
       "  <tbody>\n",
       "    <tr>\n",
       "      <th>0</th>\n",
       "      <td>1598</td>\n",
       "      <td>2301</td>\n",
       "      <td>1575</td>\n",
       "    </tr>\n",
       "    <tr>\n",
       "      <th>1</th>\n",
       "      <td>1639</td>\n",
       "      <td>3982</td>\n",
       "      <td>1589</td>\n",
       "    </tr>\n",
       "  </tbody>\n",
       "</table>\n",
       "</div>"
      ],
      "text/plain": [
       "destination  Home  No Urgent Place  Work\n",
       "Y                                       \n",
       "0            1598             2301  1575\n",
       "1            1639             3982  1589"
      ]
     },
     "execution_count": 30,
     "metadata": {},
     "output_type": "execute_result"
    }
   ],
   "source": [
    "# Test Null no Association between Y and destination\n",
    "pd.crosstab(invehicle.Y,invehicle.destination)"
   ]
  },
  {
   "cell_type": "code",
   "execution_count": 31,
   "id": "c085816c",
   "metadata": {},
   "outputs": [
    {
     "data": {
      "text/plain": [
       "Chi2ContingencyResult(statistic=216.79107304896826, pvalue=8.40265678045787e-48, dof=2, expected_freq=array([[1396.98344371, 2711.53752759, 1365.4790287 ],\n",
       "       [1840.01655629, 3571.46247241, 1798.5209713 ]]))"
      ]
     },
     "execution_count": 31,
     "metadata": {},
     "output_type": "execute_result"
    }
   ],
   "source": [
    "chi2_contingency(pd.crosstab(invehicle.Y,invehicle.destination))\n",
    "# since pvalue=8.40265678045787e-48 is less than 0.05, Reject NULL"
   ]
  },
  {
   "cell_type": "code",
   "execution_count": 32,
   "id": "7a1c1589",
   "metadata": {},
   "outputs": [
    {
     "data": {
      "text/html": [
       "<div>\n",
       "<style scoped>\n",
       "    .dataframe tbody tr th:only-of-type {\n",
       "        vertical-align: middle;\n",
       "    }\n",
       "\n",
       "    .dataframe tbody tr th {\n",
       "        vertical-align: top;\n",
       "    }\n",
       "\n",
       "    .dataframe thead th {\n",
       "        text-align: right;\n",
       "    }\n",
       "</style>\n",
       "<table border=\"1\" class=\"dataframe\">\n",
       "  <thead>\n",
       "    <tr style=\"text-align: right;\">\n",
       "      <th>maritalStatus</th>\n",
       "      <th>Divorced</th>\n",
       "      <th>Married partner</th>\n",
       "      <th>Single</th>\n",
       "      <th>Unmarried partner</th>\n",
       "      <th>Widowed</th>\n",
       "    </tr>\n",
       "    <tr>\n",
       "      <th>Y</th>\n",
       "      <th></th>\n",
       "      <th></th>\n",
       "      <th></th>\n",
       "      <th></th>\n",
       "      <th></th>\n",
       "    </tr>\n",
       "  </thead>\n",
       "  <tbody>\n",
       "    <tr>\n",
       "      <th>0</th>\n",
       "      <td>243</td>\n",
       "      <td>2331</td>\n",
       "      <td>1873</td>\n",
       "      <td>959</td>\n",
       "      <td>68</td>\n",
       "    </tr>\n",
       "    <tr>\n",
       "      <th>1</th>\n",
       "      <td>273</td>\n",
       "      <td>2769</td>\n",
       "      <td>2879</td>\n",
       "      <td>1227</td>\n",
       "      <td>62</td>\n",
       "    </tr>\n",
       "  </tbody>\n",
       "</table>\n",
       "</div>"
      ],
      "text/plain": [
       "maritalStatus  Divorced  Married partner  Single  Unmarried partner  Widowed\n",
       "Y                                                                           \n",
       "0                   243             2331    1873                959       68\n",
       "1                   273             2769    2879               1227       62"
      ]
     },
     "execution_count": 32,
     "metadata": {},
     "output_type": "execute_result"
    }
   ],
   "source": [
    "# Test Null no Association between Y and maritalStatus\n",
    "pd.crosstab(invehicle.Y,invehicle.maritalStatus)"
   ]
  },
  {
   "cell_type": "code",
   "execution_count": 33,
   "id": "5fb50afc",
   "metadata": {},
   "outputs": [
    {
     "data": {
      "text/plain": [
       "Chi2ContingencyResult(statistic=48.77999591154126, pvalue=6.48964798323251e-10, dof=4, expected_freq=array([[ 222.68874172, 2200.99337748, 2050.80794702,  943.40618102,\n",
       "          56.10375276],\n",
       "       [ 293.31125828, 2899.00662252, 2701.19205298, 1242.59381898,\n",
       "          73.89624724]]))"
      ]
     },
     "execution_count": 33,
     "metadata": {},
     "output_type": "execute_result"
    }
   ],
   "source": [
    "chi2_contingency(pd.crosstab(invehicle.Y,invehicle.maritalStatus))\n",
    "# since pvalue=6.48964798323251e-10 is less than 0.05, Reject NULL"
   ]
  },
  {
   "cell_type": "code",
   "execution_count": 34,
   "id": "74de7227",
   "metadata": {},
   "outputs": [
    {
     "data": {
      "text/html": [
       "<div>\n",
       "<style scoped>\n",
       "    .dataframe tbody tr th:only-of-type {\n",
       "        vertical-align: middle;\n",
       "    }\n",
       "\n",
       "    .dataframe tbody tr th {\n",
       "        vertical-align: top;\n",
       "    }\n",
       "\n",
       "    .dataframe thead th {\n",
       "        text-align: right;\n",
       "    }\n",
       "</style>\n",
       "<table border=\"1\" class=\"dataframe\">\n",
       "  <thead>\n",
       "    <tr style=\"text-align: right;\">\n",
       "      <th>income</th>\n",
       "      <th>$100000 or More</th>\n",
       "      <th>$12500 - $24999</th>\n",
       "      <th>$25000 - $37499</th>\n",
       "      <th>$37500 - $49999</th>\n",
       "      <th>$50000 - $62499</th>\n",
       "      <th>$62500 - $74999</th>\n",
       "      <th>$75000 - $87499</th>\n",
       "      <th>$87500 - $99999</th>\n",
       "      <th>Less than $12500</th>\n",
       "    </tr>\n",
       "    <tr>\n",
       "      <th>Y</th>\n",
       "      <th></th>\n",
       "      <th></th>\n",
       "      <th></th>\n",
       "      <th></th>\n",
       "      <th></th>\n",
       "      <th></th>\n",
       "      <th></th>\n",
       "      <th></th>\n",
       "      <th></th>\n",
       "    </tr>\n",
       "  </thead>\n",
       "  <tbody>\n",
       "    <tr>\n",
       "      <th>0</th>\n",
       "      <td>732</td>\n",
       "      <td>779</td>\n",
       "      <td>819</td>\n",
       "      <td>787</td>\n",
       "      <td>671</td>\n",
       "      <td>400</td>\n",
       "      <td>443</td>\n",
       "      <td>419</td>\n",
       "      <td>424</td>\n",
       "    </tr>\n",
       "    <tr>\n",
       "      <th>1</th>\n",
       "      <td>1004</td>\n",
       "      <td>1052</td>\n",
       "      <td>1194</td>\n",
       "      <td>1018</td>\n",
       "      <td>988</td>\n",
       "      <td>446</td>\n",
       "      <td>414</td>\n",
       "      <td>476</td>\n",
       "      <td>618</td>\n",
       "    </tr>\n",
       "  </tbody>\n",
       "</table>\n",
       "</div>"
      ],
      "text/plain": [
       "income  $100000 or More  $12500 - $24999  $25000 - $37499  $37500 - $49999  \\\n",
       "Y                                                                            \n",
       "0                   732              779              819              787   \n",
       "1                  1004             1052             1194             1018   \n",
       "\n",
       "income  $50000 - $62499  $62500 - $74999  $75000 - $87499  $87500 - $99999  \\\n",
       "Y                                                                            \n",
       "0                   671              400              443              419   \n",
       "1                   988              446              414              476   \n",
       "\n",
       "income  Less than $12500  \n",
       "Y                         \n",
       "0                    424  \n",
       "1                    618  "
      ]
     },
     "execution_count": 34,
     "metadata": {},
     "output_type": "execute_result"
    }
   ],
   "source": [
    "# Test Null no Association between Y and income\n",
    "pd.crosstab(invehicle.Y,invehicle.income)"
   ]
  },
  {
   "cell_type": "code",
   "execution_count": 35,
   "id": "74e26343",
   "metadata": {},
   "outputs": [
    {
     "data": {
      "text/plain": [
       "Chi2ContingencyResult(statistic=49.88268726622557, pvalue=4.30446851198096e-08, dof=8, expected_freq=array([[ 749.200883  ,  790.19977925,  868.74503311,  778.9790287 ,\n",
       "         715.97019868,  365.10596026,  369.85320088,  386.25275938,\n",
       "         449.69315673],\n",
       "       [ 986.799117  , 1040.80022075, 1144.25496689, 1026.0209713 ,\n",
       "         943.02980132,  480.89403974,  487.14679912,  508.74724062,\n",
       "         592.30684327]]))"
      ]
     },
     "execution_count": 35,
     "metadata": {},
     "output_type": "execute_result"
    }
   ],
   "source": [
    "chi2_contingency(pd.crosstab(invehicle.Y,invehicle.income))\n",
    "# since pvalue=4.30446851198096e-08 is less than 0.05, Reject NULL"
   ]
  },
  {
   "cell_type": "code",
   "execution_count": 36,
   "id": "25cbd869",
   "metadata": {},
   "outputs": [
    {
     "data": {
      "text/html": [
       "<div>\n",
       "<style scoped>\n",
       "    .dataframe tbody tr th:only-of-type {\n",
       "        vertical-align: middle;\n",
       "    }\n",
       "\n",
       "    .dataframe tbody tr th {\n",
       "        vertical-align: top;\n",
       "    }\n",
       "\n",
       "    .dataframe thead th {\n",
       "        text-align: right;\n",
       "    }\n",
       "</style>\n",
       "<table border=\"1\" class=\"dataframe\">\n",
       "  <thead>\n",
       "    <tr style=\"text-align: right;\">\n",
       "      <th>weather</th>\n",
       "      <th>Rainy</th>\n",
       "      <th>Snowy</th>\n",
       "      <th>Sunny</th>\n",
       "    </tr>\n",
       "    <tr>\n",
       "      <th>Y</th>\n",
       "      <th></th>\n",
       "      <th></th>\n",
       "      <th></th>\n",
       "    </tr>\n",
       "  </thead>\n",
       "  <tbody>\n",
       "    <tr>\n",
       "      <th>0</th>\n",
       "      <td>650</td>\n",
       "      <td>744</td>\n",
       "      <td>4080</td>\n",
       "    </tr>\n",
       "    <tr>\n",
       "      <th>1</th>\n",
       "      <td>560</td>\n",
       "      <td>661</td>\n",
       "      <td>5989</td>\n",
       "    </tr>\n",
       "  </tbody>\n",
       "</table>\n",
       "</div>"
      ],
      "text/plain": [
       "weather  Rainy  Snowy  Sunny\n",
       "Y                           \n",
       "0          650    744   4080\n",
       "1          560    661   5989"
      ]
     },
     "execution_count": 36,
     "metadata": {},
     "output_type": "execute_result"
    }
   ],
   "source": [
    "# Test Null no Association between Y and weather\n",
    "pd.crosstab(invehicle.Y,invehicle.weather)"
   ]
  },
  {
   "cell_type": "code",
   "execution_count": 37,
   "id": "b8e5f6d7",
   "metadata": {},
   "outputs": [
    {
     "data": {
      "text/plain": [
       "Chi2ContingencyResult(statistic=138.5248252729253, pvalue=8.312207740720093e-31, dof=2, expected_freq=array([[ 522.19646799,  606.35209713, 4345.45143488],\n",
       "       [ 687.80353201,  798.64790287, 5723.54856512]]))"
      ]
     },
     "execution_count": 37,
     "metadata": {},
     "output_type": "execute_result"
    }
   ],
   "source": [
    "chi2_contingency(pd.crosstab(invehicle.Y,invehicle.weather))\n",
    "# since pvalue=8.312207740720093e-31 is less than 0.05, Reject NULL"
   ]
  },
  {
   "cell_type": "code",
   "execution_count": 38,
   "id": "f05b85bf",
   "metadata": {},
   "outputs": [
    {
     "data": {
      "text/plain": [
       "Index(['destination', 'passanger', 'weather', 'temperature', 'time', 'coupon',\n",
       "       'expiration', 'gender', 'age', 'maritalStatus', 'has_children',\n",
       "       'education', 'occupation', 'income', 'Bar', 'CoffeeHouse', 'CarryAway',\n",
       "       'RestaurantLessThan20', 'Restaurant20To50', 'toCoupon_GEQ15min',\n",
       "       'toCoupon_GEQ25min', 'direction_same', 'direction_opp', 'Y'],\n",
       "      dtype='object')"
      ]
     },
     "execution_count": 38,
     "metadata": {},
     "output_type": "execute_result"
    }
   ],
   "source": [
    "invehicle.columns"
   ]
  },
  {
   "cell_type": "code",
   "execution_count": 39,
   "id": "0bcd53e0",
   "metadata": {},
   "outputs": [],
   "source": [
    "invehicle_dummy=pd.get_dummies(invehicle,columns=['destination', 'passanger', 'weather', 'temperature', 'time', 'coupon',\n",
    "       'expiration', 'gender', 'age', 'maritalStatus', 'has_children',\n",
    "       'education', 'occupation', 'income', 'Bar', 'CoffeeHouse', 'CarryAway',\n",
    "       'RestaurantLessThan20', 'Restaurant20To50', 'toCoupon_GEQ15min',\n",
    "       'toCoupon_GEQ25min', 'direction_same', 'direction_opp'])"
   ]
  },
  {
   "cell_type": "markdown",
   "id": "584c78f6",
   "metadata": {},
   "source": [
    "# Getting Dummies"
   ]
  },
  {
   "cell_type": "code",
   "execution_count": 40,
   "id": "62357985",
   "metadata": {},
   "outputs": [
    {
     "data": {
      "text/html": [
       "<div>\n",
       "<style scoped>\n",
       "    .dataframe tbody tr th:only-of-type {\n",
       "        vertical-align: middle;\n",
       "    }\n",
       "\n",
       "    .dataframe tbody tr th {\n",
       "        vertical-align: top;\n",
       "    }\n",
       "\n",
       "    .dataframe thead th {\n",
       "        text-align: right;\n",
       "    }\n",
       "</style>\n",
       "<table border=\"1\" class=\"dataframe\">\n",
       "  <thead>\n",
       "    <tr style=\"text-align: right;\">\n",
       "      <th></th>\n",
       "      <th>Y</th>\n",
       "      <th>destination_Home</th>\n",
       "      <th>destination_No Urgent Place</th>\n",
       "      <th>destination_Work</th>\n",
       "      <th>passanger_Alone</th>\n",
       "      <th>passanger_Friend(s)</th>\n",
       "      <th>passanger_Kid(s)</th>\n",
       "      <th>passanger_Partner</th>\n",
       "      <th>weather_Rainy</th>\n",
       "      <th>weather_Snowy</th>\n",
       "      <th>...</th>\n",
       "      <th>Restaurant20To50_less1</th>\n",
       "      <th>Restaurant20To50_never</th>\n",
       "      <th>toCoupon_GEQ15min_0</th>\n",
       "      <th>toCoupon_GEQ15min_1</th>\n",
       "      <th>toCoupon_GEQ25min_0</th>\n",
       "      <th>toCoupon_GEQ25min_1</th>\n",
       "      <th>direction_same_0</th>\n",
       "      <th>direction_same_1</th>\n",
       "      <th>direction_opp_0</th>\n",
       "      <th>direction_opp_1</th>\n",
       "    </tr>\n",
       "  </thead>\n",
       "  <tbody>\n",
       "    <tr>\n",
       "      <th>0</th>\n",
       "      <td>1</td>\n",
       "      <td>0</td>\n",
       "      <td>1</td>\n",
       "      <td>0</td>\n",
       "      <td>1</td>\n",
       "      <td>0</td>\n",
       "      <td>0</td>\n",
       "      <td>0</td>\n",
       "      <td>0</td>\n",
       "      <td>0</td>\n",
       "      <td>...</td>\n",
       "      <td>0</td>\n",
       "      <td>0</td>\n",
       "      <td>1</td>\n",
       "      <td>0</td>\n",
       "      <td>1</td>\n",
       "      <td>0</td>\n",
       "      <td>1</td>\n",
       "      <td>0</td>\n",
       "      <td>0</td>\n",
       "      <td>1</td>\n",
       "    </tr>\n",
       "    <tr>\n",
       "      <th>1</th>\n",
       "      <td>0</td>\n",
       "      <td>0</td>\n",
       "      <td>1</td>\n",
       "      <td>0</td>\n",
       "      <td>0</td>\n",
       "      <td>1</td>\n",
       "      <td>0</td>\n",
       "      <td>0</td>\n",
       "      <td>0</td>\n",
       "      <td>0</td>\n",
       "      <td>...</td>\n",
       "      <td>0</td>\n",
       "      <td>0</td>\n",
       "      <td>1</td>\n",
       "      <td>0</td>\n",
       "      <td>1</td>\n",
       "      <td>0</td>\n",
       "      <td>1</td>\n",
       "      <td>0</td>\n",
       "      <td>0</td>\n",
       "      <td>1</td>\n",
       "    </tr>\n",
       "    <tr>\n",
       "      <th>2</th>\n",
       "      <td>1</td>\n",
       "      <td>0</td>\n",
       "      <td>1</td>\n",
       "      <td>0</td>\n",
       "      <td>0</td>\n",
       "      <td>1</td>\n",
       "      <td>0</td>\n",
       "      <td>0</td>\n",
       "      <td>0</td>\n",
       "      <td>0</td>\n",
       "      <td>...</td>\n",
       "      <td>0</td>\n",
       "      <td>0</td>\n",
       "      <td>0</td>\n",
       "      <td>1</td>\n",
       "      <td>1</td>\n",
       "      <td>0</td>\n",
       "      <td>1</td>\n",
       "      <td>0</td>\n",
       "      <td>0</td>\n",
       "      <td>1</td>\n",
       "    </tr>\n",
       "    <tr>\n",
       "      <th>3</th>\n",
       "      <td>0</td>\n",
       "      <td>0</td>\n",
       "      <td>1</td>\n",
       "      <td>0</td>\n",
       "      <td>0</td>\n",
       "      <td>1</td>\n",
       "      <td>0</td>\n",
       "      <td>0</td>\n",
       "      <td>0</td>\n",
       "      <td>0</td>\n",
       "      <td>...</td>\n",
       "      <td>0</td>\n",
       "      <td>0</td>\n",
       "      <td>0</td>\n",
       "      <td>1</td>\n",
       "      <td>1</td>\n",
       "      <td>0</td>\n",
       "      <td>1</td>\n",
       "      <td>0</td>\n",
       "      <td>0</td>\n",
       "      <td>1</td>\n",
       "    </tr>\n",
       "    <tr>\n",
       "      <th>4</th>\n",
       "      <td>0</td>\n",
       "      <td>0</td>\n",
       "      <td>1</td>\n",
       "      <td>0</td>\n",
       "      <td>0</td>\n",
       "      <td>1</td>\n",
       "      <td>0</td>\n",
       "      <td>0</td>\n",
       "      <td>0</td>\n",
       "      <td>0</td>\n",
       "      <td>...</td>\n",
       "      <td>0</td>\n",
       "      <td>0</td>\n",
       "      <td>0</td>\n",
       "      <td>1</td>\n",
       "      <td>1</td>\n",
       "      <td>0</td>\n",
       "      <td>1</td>\n",
       "      <td>0</td>\n",
       "      <td>0</td>\n",
       "      <td>1</td>\n",
       "    </tr>\n",
       "  </tbody>\n",
       "</table>\n",
       "<p>5 rows × 116 columns</p>\n",
       "</div>"
      ],
      "text/plain": [
       "   Y  destination_Home  destination_No Urgent Place  destination_Work  \\\n",
       "0  1                 0                            1                 0   \n",
       "1  0                 0                            1                 0   \n",
       "2  1                 0                            1                 0   \n",
       "3  0                 0                            1                 0   \n",
       "4  0                 0                            1                 0   \n",
       "\n",
       "   passanger_Alone  passanger_Friend(s)  passanger_Kid(s)  passanger_Partner  \\\n",
       "0                1                    0                 0                  0   \n",
       "1                0                    1                 0                  0   \n",
       "2                0                    1                 0                  0   \n",
       "3                0                    1                 0                  0   \n",
       "4                0                    1                 0                  0   \n",
       "\n",
       "   weather_Rainy  weather_Snowy  ...  Restaurant20To50_less1  \\\n",
       "0              0              0  ...                       0   \n",
       "1              0              0  ...                       0   \n",
       "2              0              0  ...                       0   \n",
       "3              0              0  ...                       0   \n",
       "4              0              0  ...                       0   \n",
       "\n",
       "   Restaurant20To50_never  toCoupon_GEQ15min_0  toCoupon_GEQ15min_1  \\\n",
       "0                       0                    1                    0   \n",
       "1                       0                    1                    0   \n",
       "2                       0                    0                    1   \n",
       "3                       0                    0                    1   \n",
       "4                       0                    0                    1   \n",
       "\n",
       "   toCoupon_GEQ25min_0  toCoupon_GEQ25min_1  direction_same_0  \\\n",
       "0                    1                    0                 1   \n",
       "1                    1                    0                 1   \n",
       "2                    1                    0                 1   \n",
       "3                    1                    0                 1   \n",
       "4                    1                    0                 1   \n",
       "\n",
       "   direction_same_1  direction_opp_0  direction_opp_1  \n",
       "0                 0                0                1  \n",
       "1                 0                0                1  \n",
       "2                 0                0                1  \n",
       "3                 0                0                1  \n",
       "4                 0                0                1  \n",
       "\n",
       "[5 rows x 116 columns]"
      ]
     },
     "execution_count": 40,
     "metadata": {},
     "output_type": "execute_result"
    }
   ],
   "source": [
    "invehicle_dummy.head()"
   ]
  },
  {
   "cell_type": "code",
   "execution_count": 41,
   "id": "ccadd830",
   "metadata": {},
   "outputs": [
    {
     "data": {
      "text/plain": [
       "(12684, 116)"
      ]
     },
     "execution_count": 41,
     "metadata": {},
     "output_type": "execute_result"
    }
   ],
   "source": [
    "invehicle_dummy.shape"
   ]
  },
  {
   "cell_type": "markdown",
   "id": "862a6ed3",
   "metadata": {},
   "source": [
    "# Spliting Data into X And Y For Data Modules"
   ]
  },
  {
   "cell_type": "code",
   "execution_count": 42,
   "id": "f13436ee",
   "metadata": {},
   "outputs": [],
   "source": [
    "y=invehicle_dummy.Y\n",
    "x=invehicle_dummy.drop('Y',axis=1)"
   ]
  },
  {
   "cell_type": "code",
   "execution_count": 43,
   "id": "6a4240bd",
   "metadata": {},
   "outputs": [],
   "source": [
    "from sklearn.preprocessing import LabelEncoder"
   ]
  },
  {
   "cell_type": "code",
   "execution_count": 44,
   "id": "9d16d4dc",
   "metadata": {},
   "outputs": [],
   "source": [
    "y=LabelEncoder().fit_transform(y)"
   ]
  },
  {
   "cell_type": "code",
   "execution_count": 45,
   "id": "e9625e08",
   "metadata": {},
   "outputs": [],
   "source": [
    "from sklearn.model_selection import train_test_split"
   ]
  },
  {
   "cell_type": "code",
   "execution_count": 46,
   "id": "9adae17a",
   "metadata": {},
   "outputs": [],
   "source": [
    "x_train,x_test,y_train,y_test=train_test_split(x,y,\n",
    "                                               test_size=0.30,\n",
    "                                               random_state=42)"
   ]
  },
  {
   "cell_type": "code",
   "execution_count": 47,
   "id": "3424dce6",
   "metadata": {},
   "outputs": [
    {
     "data": {
      "text/plain": [
       "1    5053\n",
       "0    3825\n",
       "dtype: int64"
      ]
     },
     "execution_count": 47,
     "metadata": {},
     "output_type": "execute_result"
    }
   ],
   "source": [
    "pd.DataFrame(y_train).value_counts()"
   ]
  },
  {
   "cell_type": "code",
   "execution_count": 48,
   "id": "969ec6bd",
   "metadata": {},
   "outputs": [
    {
     "data": {
      "text/plain": [
       "1    2157\n",
       "0    1649\n",
       "dtype: int64"
      ]
     },
     "execution_count": 48,
     "metadata": {},
     "output_type": "execute_result"
    }
   ],
   "source": [
    "pd.DataFrame(y_test).value_counts()"
   ]
  },
  {
   "cell_type": "markdown",
   "id": "ab7f4fdd",
   "metadata": {},
   "source": [
    "# LogisticRegression"
   ]
  },
  {
   "cell_type": "code",
   "execution_count": 49,
   "id": "601e2e26",
   "metadata": {},
   "outputs": [],
   "source": [
    "from sklearn.linear_model import LogisticRegression"
   ]
  },
  {
   "cell_type": "code",
   "execution_count": 50,
   "id": "a5ec3ec1",
   "metadata": {},
   "outputs": [],
   "source": [
    "logit=LogisticRegression()"
   ]
  },
  {
   "cell_type": "code",
   "execution_count": 51,
   "id": "9ac67148",
   "metadata": {},
   "outputs": [],
   "source": [
    "logitmodel=logit.fit(x_train,y_train)"
   ]
  },
  {
   "cell_type": "code",
   "execution_count": 52,
   "id": "47c86f86",
   "metadata": {},
   "outputs": [
    {
     "data": {
      "text/plain": [
       "0.6947510700608245"
      ]
     },
     "execution_count": 52,
     "metadata": {},
     "output_type": "execute_result"
    }
   ],
   "source": [
    "logitmodel.score(x_train,y_train)"
   ]
  },
  {
   "cell_type": "code",
   "execution_count": 53,
   "id": "abfc736f",
   "metadata": {},
   "outputs": [],
   "source": [
    "from sklearn.metrics import classification_report, RocCurveDisplay"
   ]
  },
  {
   "cell_type": "code",
   "execution_count": 54,
   "id": "7ad62da2",
   "metadata": {},
   "outputs": [
    {
     "name": "stdout",
     "output_type": "stream",
     "text": [
      "              precision    recall  f1-score   support\n",
      "\n",
      "           0       0.67      0.59      0.62      3825\n",
      "           1       0.71      0.78      0.74      5053\n",
      "\n",
      "    accuracy                           0.69      8878\n",
      "   macro avg       0.69      0.68      0.68      8878\n",
      "weighted avg       0.69      0.69      0.69      8878\n",
      "\n"
     ]
    }
   ],
   "source": [
    "print(classification_report(y_train,logitmodel.predict(x_train)))"
   ]
  },
  {
   "cell_type": "markdown",
   "id": "9c861f2a",
   "metadata": {},
   "source": [
    "# cross_val_score"
   ]
  },
  {
   "cell_type": "code",
   "execution_count": 55,
   "id": "0d39bcfc",
   "metadata": {},
   "outputs": [],
   "source": [
    "from sklearn.model_selection import cross_val_score"
   ]
  },
  {
   "cell_type": "code",
   "execution_count": 56,
   "id": "cc30d0b7",
   "metadata": {},
   "outputs": [
    {
     "name": "stderr",
     "output_type": "stream",
     "text": [
      "C:\\Users\\sande\\anaconda3\\lib\\site-packages\\sklearn\\linear_model\\_logistic.py:458: ConvergenceWarning: lbfgs failed to converge (status=1):\n",
      "STOP: TOTAL NO. of ITERATIONS REACHED LIMIT.\n",
      "\n",
      "Increase the number of iterations (max_iter) or scale the data as shown in:\n",
      "    https://scikit-learn.org/stable/modules/preprocessing.html\n",
      "Please also refer to the documentation for alternative solver options:\n",
      "    https://scikit-learn.org/stable/modules/linear_model.html#logistic-regression\n",
      "  n_iter_i = _check_optimize_result(\n"
     ]
    },
    {
     "data": {
      "text/plain": [
       "0.6843885928181703"
      ]
     },
     "execution_count": 56,
     "metadata": {},
     "output_type": "execute_result"
    }
   ],
   "source": [
    "np.mean(cross_val_score(logit,x_train,y_train))"
   ]
  },
  {
   "cell_type": "code",
   "execution_count": 57,
   "id": "bfb8c046",
   "metadata": {},
   "outputs": [
    {
     "data": {
      "text/plain": [
       "<sklearn.metrics._plot.roc_curve.RocCurveDisplay at 0x21cfbff21a0>"
      ]
     },
     "execution_count": 57,
     "metadata": {},
     "output_type": "execute_result"
    },
    {
     "data": {
      "image/png": "[encoded data removed]",
      "text/plain": [
       "<Figure size 640x480 with 1 Axes>"
      ]
     },
     "metadata": {},
     "output_type": "display_data"
    }
   ],
   "source": [
    "RocCurveDisplay.from_predictions(y_train,logitmodel.predict(x_train))"
   ]
  },
  {
   "cell_type": "markdown",
   "id": "81b3b345",
   "metadata": {},
   "source": [
    "# CategoricalNB"
   ]
  },
  {
   "cell_type": "code",
   "execution_count": 58,
   "id": "a65a2eb5",
   "metadata": {},
   "outputs": [],
   "source": [
    "from sklearn.naive_bayes import CategoricalNB"
   ]
  },
  {
   "cell_type": "code",
   "execution_count": 59,
   "id": "644027eb",
   "metadata": {},
   "outputs": [],
   "source": [
    "nb=CategoricalNB()"
   ]
  },
  {
   "cell_type": "code",
   "execution_count": 60,
   "id": "96d3bc23",
   "metadata": {},
   "outputs": [],
   "source": [
    "nb_model=nb.fit(x_train,y_train)"
   ]
  },
  {
   "cell_type": "code",
   "execution_count": 61,
   "id": "468d9e53",
   "metadata": {},
   "outputs": [
    {
     "data": {
      "text/plain": [
       "0.6637756251407975"
      ]
     },
     "execution_count": 61,
     "metadata": {},
     "output_type": "execute_result"
    }
   ],
   "source": [
    "nb_model.score(x_train,y_train)"
   ]
  },
  {
   "cell_type": "code",
   "execution_count": 62,
   "id": "c57b8164",
   "metadata": {},
   "outputs": [
    {
     "data": {
      "text/plain": [
       "0.6590438396142622"
      ]
     },
     "execution_count": 62,
     "metadata": {},
     "output_type": "execute_result"
    }
   ],
   "source": [
    "np.mean(cross_val_score(nb,x_train,y_train))"
   ]
  },
  {
   "cell_type": "code",
   "execution_count": 63,
   "id": "9107efa2",
   "metadata": {},
   "outputs": [
    {
     "name": "stdout",
     "output_type": "stream",
     "text": [
      "              precision    recall  f1-score   support\n",
      "\n",
      "           0       0.62      0.57      0.60      3825\n",
      "           1       0.69      0.73      0.71      5053\n",
      "\n",
      "    accuracy                           0.66      8878\n",
      "   macro avg       0.66      0.65      0.65      8878\n",
      "weighted avg       0.66      0.66      0.66      8878\n",
      "\n"
     ]
    }
   ],
   "source": [
    "print(classification_report(y_train,nb_model.predict(x_train)))"
   ]
  },
  {
   "cell_type": "code",
   "execution_count": 64,
   "id": "b9219234",
   "metadata": {},
   "outputs": [
    {
     "data": {
      "text/plain": [
       "<sklearn.metrics._plot.roc_curve.RocCurveDisplay at 0x21cfc405000>"
      ]
     },
     "execution_count": 64,
     "metadata": {},
     "output_type": "execute_result"
    },
    {
     "data": {
      "image/png": "[encoded data removed]",
      "text/plain": [
       "<Figure size 640x480 with 1 Axes>"
      ]
     },
     "metadata": {},
     "output_type": "display_data"
    }
   ],
   "source": [
    "RocCurveDisplay.from_predictions(y_train,nb_model.predict(x_train))"
   ]
  },
  {
   "cell_type": "markdown",
   "id": "c99f6f56",
   "metadata": {},
   "source": [
    "# DecisionTreeClassifier"
   ]
  },
  {
   "cell_type": "code",
   "execution_count": 65,
   "id": "06984572",
   "metadata": {},
   "outputs": [],
   "source": [
    "from sklearn.tree import DecisionTreeClassifier"
   ]
  },
  {
   "cell_type": "code",
   "execution_count": 66,
   "id": "94e2d8bd",
   "metadata": {},
   "outputs": [],
   "source": [
    "dt=DecisionTreeClassifier(max_depth=6)"
   ]
  },
  {
   "cell_type": "code",
   "execution_count": 67,
   "id": "942f54d8",
   "metadata": {},
   "outputs": [],
   "source": [
    "dt_model=dt.fit(x_train,y_train)"
   ]
  },
  {
   "cell_type": "code",
   "execution_count": 68,
   "id": "99f48f85",
   "metadata": {},
   "outputs": [
    {
     "data": {
      "text/plain": [
       "0.7081549898625816"
      ]
     },
     "execution_count": 68,
     "metadata": {},
     "output_type": "execute_result"
    }
   ],
   "source": [
    "dt_model.score(x_train,y_train)"
   ]
  },
  {
   "cell_type": "code",
   "execution_count": 69,
   "id": "9dec4375",
   "metadata": {},
   "outputs": [
    {
     "data": {
      "text/plain": [
       "0.6939623778708286"
      ]
     },
     "execution_count": 69,
     "metadata": {},
     "output_type": "execute_result"
    }
   ],
   "source": [
    "np.mean(cross_val_score(dt,x_train,y_train))"
   ]
  },
  {
   "cell_type": "code",
   "execution_count": 70,
   "id": "b23ef216",
   "metadata": {},
   "outputs": [
    {
     "name": "stdout",
     "output_type": "stream",
     "text": [
      "              precision    recall  f1-score   support\n",
      "\n",
      "           0       0.66      0.66      0.66      3825\n",
      "           1       0.74      0.74      0.74      5053\n",
      "\n",
      "    accuracy                           0.71      8878\n",
      "   macro avg       0.70      0.70      0.70      8878\n",
      "weighted avg       0.71      0.71      0.71      8878\n",
      "\n"
     ]
    }
   ],
   "source": [
    "print(classification_report(y_train,dt_model.predict(x_train)))"
   ]
  },
  {
   "cell_type": "code",
   "execution_count": 71,
   "id": "73f37e65",
   "metadata": {},
   "outputs": [
    {
     "data": {
      "text/plain": [
       "<sklearn.metrics._plot.roc_curve.RocCurveDisplay at 0x21cf5952500>"
      ]
     },
     "execution_count": 71,
     "metadata": {},
     "output_type": "execute_result"
    },
    {
     "data": {
      "image/png": "[encoded data removed]",
      "text/plain": [
       "<Figure size 640x480 with 1 Axes>"
      ]
     },
     "metadata": {},
     "output_type": "display_data"
    }
   ],
   "source": [
    "RocCurveDisplay.from_predictions(y_train,dt_model.predict(x_train))"
   ]
  },
  {
   "cell_type": "markdown",
   "id": "254b8bda",
   "metadata": {},
   "source": [
    "# RandomForestClassifier"
   ]
  },
  {
   "cell_type": "code",
   "execution_count": 72,
   "id": "d9470593",
   "metadata": {},
   "outputs": [],
   "source": [
    "from sklearn.ensemble import RandomForestClassifier"
   ]
  },
  {
   "cell_type": "code",
   "execution_count": 73,
   "id": "3938642f",
   "metadata": {},
   "outputs": [],
   "source": [
    "rf=RandomForestClassifier(n_estimators=1000,max_depth=6)"
   ]
  },
  {
   "cell_type": "code",
   "execution_count": 74,
   "id": "b29a2bff",
   "metadata": {},
   "outputs": [],
   "source": [
    "rf_model=rf.fit(x_train,y_train)"
   ]
  },
  {
   "cell_type": "code",
   "execution_count": 75,
   "id": "257f1ba0",
   "metadata": {},
   "outputs": [
    {
     "data": {
      "text/plain": [
       "0.7211083577382293"
      ]
     },
     "execution_count": 75,
     "metadata": {},
     "output_type": "execute_result"
    }
   ],
   "source": [
    "rf_model.score(x_train,y_train)"
   ]
  },
  {
   "cell_type": "code",
   "execution_count": 76,
   "id": "f124545a",
   "metadata": {},
   "outputs": [
    {
     "data": {
      "text/plain": [
       "0.6977924755741657"
      ]
     },
     "execution_count": 76,
     "metadata": {},
     "output_type": "execute_result"
    }
   ],
   "source": [
    "np.mean(cross_val_score(rf,x_train,y_train))"
   ]
  },
  {
   "cell_type": "code",
   "execution_count": 77,
   "id": "c02e9c38",
   "metadata": {},
   "outputs": [
    {
     "name": "stdout",
     "output_type": "stream",
     "text": [
      "              precision    recall  f1-score   support\n",
      "\n",
      "           0       0.78      0.49      0.60      3825\n",
      "           1       0.70      0.90      0.79      5053\n",
      "\n",
      "    accuracy                           0.72      8878\n",
      "   macro avg       0.74      0.69      0.69      8878\n",
      "weighted avg       0.73      0.72      0.71      8878\n",
      "\n"
     ]
    }
   ],
   "source": [
    "print(classification_report(y_train,rf_model.predict(x_train)))"
   ]
  },
  {
   "cell_type": "code",
   "execution_count": 78,
   "id": "17c2d320",
   "metadata": {},
   "outputs": [
    {
     "data": {
      "text/plain": [
       "<sklearn.metrics._plot.roc_curve.RocCurveDisplay at 0x21cf5952620>"
      ]
     },
     "execution_count": 78,
     "metadata": {},
     "output_type": "execute_result"
    },
    {
     "data": {
      "image/png": "[encoded data removed]",
      "text/plain": [
       "<Figure size 640x480 with 1 Axes>"
      ]
     },
     "metadata": {},
     "output_type": "display_data"
    }
   ],
   "source": [
    "RocCurveDisplay.from_predictions(y_train,rf_model.predict(x_train))"
   ]
  },
  {
   "cell_type": "markdown",
   "id": "21ba7af8",
   "metadata": {},
   "source": [
    "# GradientBoostingClassifier"
   ]
  },
  {
   "cell_type": "code",
   "execution_count": 79,
   "id": "d88ea0d0",
   "metadata": {},
   "outputs": [],
   "source": [
    "from sklearn.ensemble import GradientBoostingClassifier"
   ]
  },
  {
   "cell_type": "code",
   "execution_count": 80,
   "id": "e8130ab0",
   "metadata": {},
   "outputs": [],
   "source": [
    "gbm=GradientBoostingClassifier(n_estimators=5000)"
   ]
  },
  {
   "cell_type": "code",
   "execution_count": 81,
   "id": "f0cbffa5",
   "metadata": {},
   "outputs": [],
   "source": [
    "gbmmodel=gbm.fit(x_train,y_train)"
   ]
  },
  {
   "cell_type": "code",
   "execution_count": 82,
   "id": "c3c5baa8",
   "metadata": {},
   "outputs": [
    {
     "data": {
      "text/plain": [
       "0.9276864158594278"
      ]
     },
     "execution_count": 82,
     "metadata": {},
     "output_type": "execute_result"
    }
   ],
   "source": [
    "gbmmodel.score(x_train,y_train)"
   ]
  },
  {
   "cell_type": "code",
   "execution_count": 83,
   "id": "2ef06d4a",
   "metadata": {},
   "outputs": [],
   "source": [
    "gbm_test_pred=gbmmodel.predict(x_test)"
   ]
  },
  {
   "cell_type": "code",
   "execution_count": 84,
   "id": "fefe6dfc",
   "metadata": {},
   "outputs": [
    {
     "data": {
      "text/html": [
       "<div>\n",
       "<style scoped>\n",
       "    .dataframe tbody tr th:only-of-type {\n",
       "        vertical-align: middle;\n",
       "    }\n",
       "\n",
       "    .dataframe tbody tr th {\n",
       "        vertical-align: top;\n",
       "    }\n",
       "\n",
       "    .dataframe thead th {\n",
       "        text-align: right;\n",
       "    }\n",
       "</style>\n",
       "<table border=\"1\" class=\"dataframe\">\n",
       "  <thead>\n",
       "    <tr style=\"text-align: right;\">\n",
       "      <th>col_0</th>\n",
       "      <th>0</th>\n",
       "      <th>1</th>\n",
       "    </tr>\n",
       "    <tr>\n",
       "      <th>row_0</th>\n",
       "      <th></th>\n",
       "      <th></th>\n",
       "    </tr>\n",
       "  </thead>\n",
       "  <tbody>\n",
       "    <tr>\n",
       "      <th>0</th>\n",
       "      <td>1137</td>\n",
       "      <td>512</td>\n",
       "    </tr>\n",
       "    <tr>\n",
       "      <th>1</th>\n",
       "      <td>427</td>\n",
       "      <td>1730</td>\n",
       "    </tr>\n",
       "  </tbody>\n",
       "</table>\n",
       "</div>"
      ],
      "text/plain": [
       "col_0     0     1\n",
       "row_0            \n",
       "0      1137   512\n",
       "1       427  1730"
      ]
     },
     "execution_count": 84,
     "metadata": {},
     "output_type": "execute_result"
    }
   ],
   "source": [
    "pd.crosstab(y_test,gbm_test_pred)"
   ]
  },
  {
   "cell_type": "code",
   "execution_count": 85,
   "id": "ba0a19cb",
   "metadata": {},
   "outputs": [],
   "source": [
    "log_pred=logitmodel.predict(x_test)\n",
    "nb_pred=nb_model.predict(x_test)\n",
    "dt_pred=dt_model.predict(x_test)\n",
    "rf_pred=rf_model.predict(x_test)\n",
    "gb_pred=gbmmodel.predict(x_test)"
   ]
  },
  {
   "cell_type": "code",
   "execution_count": 86,
   "id": "baffcff3",
   "metadata": {},
   "outputs": [],
   "source": [
    "pred=[log_pred,nb_pred,dt_pred,rf_pred,gb_pred]"
   ]
  },
  {
   "cell_type": "code",
   "execution_count": 87,
   "id": "134e2b6d",
   "metadata": {},
   "outputs": [],
   "source": [
    "al=[logit,nb,dt,rf,gbm]"
   ]
  },
  {
   "cell_type": "code",
   "execution_count": 88,
   "id": "ef2df73b",
   "metadata": {},
   "outputs": [],
   "source": [
    "model=[logitmodel,nb_model,dt_model,rf_model,gbmmodel]"
   ]
  },
  {
   "cell_type": "code",
   "execution_count": 89,
   "id": "8b62684f",
   "metadata": {},
   "outputs": [
    {
     "name": "stdout",
     "output_type": "stream",
     "text": [
      "0.6947510700608245\n",
      "0.6637756251407975\n",
      "0.7081549898625816\n",
      "0.7211083577382293\n",
      "0.9276864158594278\n"
     ]
    }
   ],
   "source": [
    "j=0\n",
    "for i in model:\n",
    "    print((i.score(x_train,y_train)))"
   ]
  },
  {
   "cell_type": "code",
   "execution_count": 90,
   "id": "488a5237",
   "metadata": {},
   "outputs": [
    {
     "name": "stdout",
     "output_type": "stream",
     "text": [
      "Logistic Regresssion\n",
      "              precision    recall  f1-score   support\n",
      "\n",
      "           0       0.66      0.57      0.61      1649\n",
      "           1       0.70      0.78      0.74      2157\n",
      "\n",
      "    accuracy                           0.69      3806\n",
      "   macro avg       0.68      0.67      0.68      3806\n",
      "weighted avg       0.69      0.69      0.68      3806\n",
      "\n",
      "Naive Bayes\n",
      "              precision    recall  f1-score   support\n",
      "\n",
      "           0       0.61      0.56      0.59      1649\n",
      "           1       0.68      0.73      0.71      2157\n",
      "\n",
      "    accuracy                           0.66      3806\n",
      "   macro avg       0.65      0.64      0.65      3806\n",
      "weighted avg       0.65      0.66      0.65      3806\n",
      "\n",
      "Decision Tree\n",
      "              precision    recall  f1-score   support\n",
      "\n",
      "           0       0.65      0.65      0.65      1649\n",
      "           1       0.73      0.73      0.73      2157\n",
      "\n",
      "    accuracy                           0.70      3806\n",
      "   macro avg       0.69      0.69      0.69      3806\n",
      "weighted avg       0.70      0.70      0.70      3806\n",
      "\n",
      "Random Forest\n",
      "              precision    recall  f1-score   support\n",
      "\n",
      "           0       0.75      0.46      0.57      1649\n",
      "           1       0.68      0.88      0.77      2157\n",
      "\n",
      "    accuracy                           0.70      3806\n",
      "   macro avg       0.72      0.67      0.67      3806\n",
      "weighted avg       0.71      0.70      0.68      3806\n",
      "\n",
      "Gradient Boosting\n",
      "              precision    recall  f1-score   support\n",
      "\n",
      "           0       0.73      0.69      0.71      1649\n",
      "           1       0.77      0.80      0.79      2157\n",
      "\n",
      "    accuracy                           0.75      3806\n",
      "   macro avg       0.75      0.75      0.75      3806\n",
      "weighted avg       0.75      0.75      0.75      3806\n",
      "\n"
     ]
    }
   ],
   "source": [
    "print('Logistic Regresssion')\n",
    "print(classification_report(y_test,log_pred))\n",
    "print('Naive Bayes')\n",
    "print(classification_report(y_test,nb_pred))\n",
    "print('Decision Tree')\n",
    "print(classification_report(y_test,dt_pred))\n",
    "print('Random Forest')\n",
    "print(classification_report(y_test,rf_pred))\n",
    "print('Gradient Boosting')\n",
    "print(classification_report(y_test,gb_pred))"
   ]
  },
  {
   "cell_type": "markdown",
   "id": "e55a875f",
   "metadata": {},
   "source": [
    "# SVC"
   ]
  },
  {
   "cell_type": "code",
   "execution_count": 91,
   "id": "23020c9f",
   "metadata": {},
   "outputs": [],
   "source": [
    "from sklearn.svm import SVC"
   ]
  },
  {
   "cell_type": "code",
   "execution_count": 92,
   "id": "da3107c5",
   "metadata": {},
   "outputs": [],
   "source": [
    "clf=SVC()"
   ]
  },
  {
   "cell_type": "code",
   "execution_count": 93,
   "id": "6ca552f4",
   "metadata": {},
   "outputs": [],
   "source": [
    "clfmodel=clf.fit(x_train,y_train)"
   ]
  },
  {
   "cell_type": "code",
   "execution_count": 94,
   "id": "73ac6d95",
   "metadata": {},
   "outputs": [
    {
     "data": {
      "text/plain": [
       "array([0.22585223])"
      ]
     },
     "execution_count": 94,
     "metadata": {},
     "output_type": "execute_result"
    }
   ],
   "source": [
    "clfmodel.intercept_"
   ]
  },
  {
   "cell_type": "code",
   "execution_count": 95,
   "id": "16101118",
   "metadata": {},
   "outputs": [
    {
     "data": {
      "text/plain": [
       "array([[0., 1., 0., ..., 0., 0., 1.],\n",
       "       [0., 0., 1., ..., 1., 1., 0.],\n",
       "       [1., 0., 0., ..., 0., 0., 1.],\n",
       "       ...,\n",
       "       [1., 0., 0., ..., 1., 1., 0.],\n",
       "       [0., 1., 0., ..., 0., 0., 1.],\n",
       "       [1., 0., 0., ..., 0., 0., 1.]])"
      ]
     },
     "execution_count": 95,
     "metadata": {},
     "output_type": "execute_result"
    }
   ],
   "source": [
    "clfmodel.support_vectors_"
   ]
  },
  {
   "cell_type": "code",
   "execution_count": 96,
   "id": "83dae6eb",
   "metadata": {},
   "outputs": [
    {
     "data": {
      "text/plain": [
       "0.8183149357963505"
      ]
     },
     "execution_count": 96,
     "metadata": {},
     "output_type": "execute_result"
    }
   ],
   "source": [
    "clfmodel.score(x_train,y_train)"
   ]
  },
  {
   "cell_type": "markdown",
   "id": "93ec272c",
   "metadata": {},
   "source": [
    "# Conclusion "
   ]
  },
  {
   "cell_type": "markdown",
   "id": "4eabb988",
   "metadata": {},
   "source": [
    "Here is the Conlcusion of the \"INVECHICLE COUPON Project\", After creating the Linear Regression,Decision Tree,\n",
    "Random Forest,Gradient Boosting and SVM models the best fit model is \"GRADIENT BOOSTING\"."
   ]
  },
  {
   "cell_type": "code",
   "execution_count": null,
   "id": "de1b8e08",
   "metadata": {},
   "outputs": [],
   "source": []
  }
 ],
 "metadata": {
  "kernelspec": {
   "display_name": "Python 3 (ipykernel)",
   "language": "python",
   "name": "python3"
  },
  "language_info": {
   "codemirror_mode": {
    "name": "ipython",
    "version": 3
   },
   "file_extension": ".py",
   "mimetype": "text/x-python",
   "name": "python",
   "nbconvert_exporter": "python",
   "pygments_lexer": "ipython3",
   "version": "3.10.9"
  }
 },
 "nbformat": 4,
 "nbformat_minor": 5
}
